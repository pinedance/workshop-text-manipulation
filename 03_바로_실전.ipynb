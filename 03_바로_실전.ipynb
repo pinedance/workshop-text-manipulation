{
 "cells": [
  {
   "cell_type": "markdown",
   "metadata": {},
   "source": [
    "# 바로 실전이다.\n",
    "\n",
    "실전을 통해 익혀보자. "
   ]
  },
  {
   "cell_type": "markdown",
   "metadata": {},
   "source": [
    "## 예제1\n",
    "\n",
    "하나의 파일을 읽어 특정 문자 셋트를 찾아 바꾼 뒤에 새로운 파일을 만들어 보자. "
   ]
  },
  {
   "cell_type": "code",
   "execution_count": 7,
   "metadata": {},
   "outputs": [],
   "source": [
    "replace_sets = [\n",
    "    ( \"尚\", \"尙\" ),\n",
    "    ( \"為\", \"爲\" ),\n",
    "    ( \"垒\", \"壘\" ),\n",
    "    ( \"胆\", \"膽\" )\n",
    "]\n",
    "\n",
    "input_data_obj = open( \"examples/example01.txt\", 'r', encoding=\"utf-8\" )\n",
    "input_data = input_data_obj.read()\n",
    "\n",
    "for ( before, after ) in replace_sets:\n",
    "    input_data = input_data.replace( before, after )\n",
    "\n",
    "output_handler = open( \"examples/example01RST.txt\", 'w', encoding=\"utf-8\")\n",
    "output_handler.write( input_data )\n",
    "output_handler.close()\n"
   ]
  },
  {
   "cell_type": "markdown",
   "metadata": {},
   "source": [
    "## 예제2\n",
    "\n",
    "하나의 파일을 읽어 정해진 정규식으로 파일을 수정한 뒤에 새로운 파일에 저장해 보자."
   ]
  },
  {
   "cell_type": "code",
   "execution_count": 11,
   "metadata": {},
   "outputs": [],
   "source": [
    "\"\"\"\n",
    "\\{([^\\{]+?)[\\=\\:]\\$(.+?)@(.+?)\\}\n",
    "이북=교감기 변환\n",
    "\\*$1\\*\\[\\^$1\\]★\\[\\^$1\\]\\: $1 \\:*$2 ※$3★\n",
    "\n",
    "\\{([^\\{]+?)[\\=\\:](.+?)@(.+?)\\}\n",
    "출처있는 주석\n",
    "\\*$1\\*\\[\\^$1\\]★\\[\\^$1\\]\\: $1 \\:$2 ※$3★\n",
    "\n",
    "\\{([^\\{^\\}]+?)[\\=\\:](.+?)\\}\n",
    "출처없는 주석\n",
    "\\*$1\\*\\[\\^$1\\]★\\[\\^$1\\]\\: $1 \\:$2★\n",
    "\n",
    "\\{\\:(.+?)\\}\n",
    "대상없는 주석\n",
    "\\[\\^주석01\\]★\\[\\^주석01\\]\\: \\: $1★\n",
    "\"\"\"\n",
    "import re   # https://docs.python.org/3/library/re.html\n",
    "\n",
    "patterns = [\n",
    "    ( r\"\\{([^\\{]+?)[\\=\\:]\\$(.+?)@(.+?)\\}\", r\"*\\1*[^\\1]★[^\\1]: \\1 :*\\2 ※\\3★\" ), # 이북=교감기 변환\n",
    "    ( r\"\\{([^\\{]+?)[\\=\\:](.+?)@(.+?)\\}\", r\"*\\1*[^\\1]★[^\\1]: \\1 :\\2 ※\\3★\" ),    # 출처있는 주석\n",
    "    ( r\"\\{([^\\{^\\}]+?)[\\=\\:](.+?)\\}\", r\"*\\1*[^\\1]★[^\\1]: \\1 :\\2★\" ),            # 출처없는 주석\n",
    "    ( r\"\\{\\:(.+?)\\}\", r\"\\[\\^주석01\\]★[^주석01]: : \\1★\" ),                       # 대상없는 주석\n",
    "]\n",
    "\n",
    "input_data_obj = open( \"examples/example02.txt\", 'r', encoding=\"utf-8\" )\n",
    "input_data = input_data_obj.read()\n",
    "\n",
    "for ( before, after ) in patterns:\n",
    "    input_data = re.sub( before, after, input_data )\n",
    "\n",
    "output_handler = open( \"examples/example02RST.md\", 'w', encoding=\"utf-8\")\n",
    "output_handler.write( input_data )\n",
    "output_handler.close()\n"
   ]
  },
  {
   "cell_type": "markdown",
   "metadata": {},
   "source": [
    "## 예제3\n",
    "\n",
    "하나의 폴더에 있는 여러가지 파일을 읽어 예제2에서 한 작업을 반복해 보자. \n"
   ]
  },
  {
   "cell_type": "code",
   "execution_count": null,
   "metadata": {},
   "outputs": [],
   "source": []
  }
 ],
 "metadata": {
  "kernelspec": {
   "display_name": "Python 3",
   "language": "python",
   "name": "python3"
  },
  "language_info": {
   "codemirror_mode": {
    "name": "ipython",
    "version": 3
   },
   "file_extension": ".py",
   "mimetype": "text/x-python",
   "name": "python",
   "nbconvert_exporter": "python",
   "pygments_lexer": "ipython3",
   "version": "3.7.0"
  }
 },
 "nbformat": 4,
 "nbformat_minor": 2
}
