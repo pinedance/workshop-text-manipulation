{
 "cells": [
  {
   "cell_type": "markdown",
   "metadata": {},
   "source": [
    "# 바로 실전이다.\n",
    "\n",
    "실전을 통해 익혀보자. "
   ]
  },
  {
   "cell_type": "markdown",
   "metadata": {},
   "source": [
    "## 예제1\n",
    "\n",
    "하나의 파일을 읽어 특정 문자 셋트를 찾아 바꾼 뒤에 새로운 파일을 만들어 보자. "
   ]
  },
  {
   "cell_type": "code",
   "execution_count": 1,
   "metadata": {
    "collapsed": true
   },
   "outputs": [],
   "source": [
    "def main_ex01():\n",
    "\n",
    "    replace_sets = [\n",
    "        ( \"尚\", \"尙\" ),\n",
    "        ( \"為\", \"爲\" ),\n",
    "        ( \"垒\", \"壘\" ),\n",
    "        ( \"胆\", \"膽\" )\n",
    "    ]\n",
    "\n",
    "    input_data_obj = open( \"examples/example01.txt\", 'r', encoding=\"utf-8\" )\n",
    "    input_data = input_data_obj.read()\n",
    "\n",
    "    for ( before, after ) in replace_sets:\n",
    "        input_data = input_data.replace( before, after )\n",
    "\n",
    "    output_handler = open( \"examples/example01RST.txt\", 'w', encoding=\"utf-8\")\n",
    "    output_handler.write( input_data )\n",
    "    output_handler.close()\n",
    "\n",
    "main_ex01()"
   ]
  },
  {
   "cell_type": "markdown",
   "metadata": {},
   "source": [
    "## 예제2\n",
    "\n",
    "하나의 파일을 읽어 정해진 정규식으로 파일을 수정한 뒤에 새로운 파일에 저장해 보자."
   ]
  },
  {
   "cell_type": "code",
   "execution_count": 10,
   "metadata": {
    "collapsed": true
   },
   "outputs": [],
   "source": [
    "def main_ex02():\n",
    "\n",
    "    \"\"\"\n",
    "    \\{([^\\{]+?)[\\=\\:]\\$(.+?)@(.+?)\\}\n",
    "    이북=교감기 변환\n",
    "    \\*$1\\*\\[\\^$1\\]★\\[\\^$1\\]\\: $1 \\:*$2 ※$3★\n",
    "\n",
    "    \\{([^\\{]+?)[\\=\\:](.+?)@(.+?)\\}\n",
    "    출처있는 주석\n",
    "    \\*$1\\*\\[\\^$1\\]★\\[\\^$1\\]\\: $1 \\:$2 ※$3★\n",
    "\n",
    "    \\{([^\\{^\\}]+?)[\\=\\:](.+?)\\}\n",
    "    출처없는 주석\n",
    "    \\*$1\\*\\[\\^$1\\]★\\[\\^$1\\]\\: $1 \\:$2★\n",
    "\n",
    "    \\{\\:(.+?)\\}\n",
    "    대상없는 주석\n",
    "    \\[\\^주석01\\]★\\[\\^주석01\\]\\: \\: $1★\n",
    "    \"\"\"\n",
    "\n",
    "    import re   # https://docs.python.org/3/library/re.html\n",
    "\n",
    "    patterns = [\n",
    "        ( r\"\\{([^\\{]+?)[\\=\\:]\\$(.+?)@(.+?)\\}\", r\"*\\1*[^\\1]★[^\\1]: \\1 :*\\2 ※\\3★\" ), # 이북=교감기 변환\n",
    "        ( r\"\\{([^\\{]+?)[\\=\\:](.+?)@(.+?)\\}\", r\"*\\1*[^\\1]★[^\\1]: \\1 :\\2 ※\\3★\" ),    # 출처있는 주석\n",
    "        ( r\"\\{([^\\{^\\}]+?)[\\=\\:](.+?)\\}\", r\"*\\1*[^\\1]★[^\\1]: \\1 :\\2★\" ),            # 출처없는 주석\n",
    "        ( r\"\\{\\:(.+?)\\}\", r\"\\[\\^주석01\\]★[^주석01]: : \\1★\" ),                       # 대상없는 주석\n",
    "    ]\n",
    "\n",
    "    input_data_obj = open( \"examples/example02.txt\", 'r', encoding=\"utf-8\" )\n",
    "    input_data = input_data_obj.read()\n",
    "\n",
    "    for ( before, after ) in patterns:\n",
    "        input_data = re.sub( before, after, input_data )\n",
    "\n",
    "    output_handler = open( \"examples/example02RST.md\", 'w', encoding=\"utf-8\")\n",
    "    output_handler.write( input_data )\n",
    "    output_handler.close()\n",
    "    \n",
    "main_ex02()"
   ]
  },
  {
   "cell_type": "markdown",
   "metadata": {},
   "source": [
    "## 예제3\n",
    "\n",
    "주석을 따로 저장하여 별도의 파일을 만들어 보자. "
   ]
  },
  {
   "cell_type": "code",
   "execution_count": 23,
   "metadata": {
    "collapsed": true
   },
   "outputs": [],
   "source": [
    "class Counter():\n",
    "    \n",
    "    def __init__(self):\n",
    "        self.counter = 0\n",
    "        \n",
    "    def addOne(self):\n",
    "        self.counter = self.counter + 1\n",
    "        \n",
    "    def puts(self):\n",
    "        return \"{:0>3}\".format( self.counter )\n",
    "\n",
    "        \n",
    "class Refs():\n",
    "    \n",
    "    counter = Counter()\n",
    "    refs = []\n",
    "    \n",
    "    @classmethod\n",
    "    def appendNew(cls, ref_type, ref_body):\n",
    "        cls.counter.addOne()\n",
    "        ref_header = \"[^{}{}]: \".format( ref_type, cls.counter.puts() )\n",
    "        cls.refs.append( ref_header + ref_body )\n",
    "        return ref_header\n",
    "\n",
    "    @classmethod\n",
    "    def callAll(cls):\n",
    "        return cls.refs\n",
    "\n",
    "    \n",
    "def convertA( m ):  # https://docs.python.org/3/library/re.html#text-munging    \n",
    "    matches = m.groups()\n",
    "    ref_header = Refs.appendNew( 'A', \"{} :*{} ※{}\".format( *matches ) )\n",
    "    return ref_header\n",
    "\n",
    "def convertB( m ):  # https://docs.python.org/3/library/re.html#text-munging    \n",
    "    matches = m.groups()\n",
    "    ref_header = Refs.appendNew( 'B', \"{} :{} ※{}\".format( *matches ) )\n",
    "    return ref_header\n",
    "\n",
    "def convertC( m ):  # https://docs.python.org/3/library/re.html#text-munging    \n",
    "    matches = m.groups()\n",
    "    ref_header = Refs.appendNew( 'C', \"{} :{} \".format( *matches ) )\n",
    "    return ref_header\n",
    "\n",
    "def convertD( m ):  # https://docs.python.org/3/library/re.html#text-munging    \n",
    "    matches = m.groups()\n",
    "    ref_header = Refs.appendNew( 'D', \"{}\".format( *matches ) )\n",
    "    return ref_header\n",
    "\n",
    "    \n",
    "def main_ex03():\n",
    "\n",
    "    import re   # https://docs.python.org/3/library/re.html\n",
    "\n",
    "    patterns = [\n",
    "        ( r\"\\{([^\\{]+?)[\\=\\:]\\$(.+?)@(.+?)\\}\", convertA ), # 이북=교감기 변환\n",
    "        ( r\"\\{([^\\{]+?)[\\=\\:](.+?)@(.+?)\\}\", convertB ),    # 출처있는 주석\n",
    "        ( r\"\\{([^\\{^\\}]+?)[\\=\\:](.+?)\\}\", convertC ),            # 출처없는 주석\n",
    "        ( r\"\\{\\:(.+?)\\}\", convertD )                                 # 대상없는 주석\n",
    "    ]\n",
    "\n",
    "    input_data_obj = open( \"examples/example02.txt\", 'r', encoding=\"utf-8\" )\n",
    "    input_data = input_data_obj.read()\n",
    "\n",
    "    for ( before, convertFunc ) in patterns:\n",
    "        input_data = re.sub( before, convertFunc, input_data )\n",
    "\n",
    "    output_handler1 = open( \"examples/example03RST.md\", 'w', encoding=\"utf-8\")\n",
    "    output_handler1.write( input_data )\n",
    "    output_handler1.close()\n",
    "    \n",
    "    output_handler2 = open( \"examples/example03RST_refs.md\", 'w', encoding=\"utf-8\")\n",
    "    output_handler2.write( \"\\n\".join( Refs.callAll() ) )\n",
    "    output_handler2.close()\n",
    "    \n",
    "main_ex03()"
   ]
  },
  {
   "cell_type": "markdown",
   "metadata": {},
   "source": [
    "## 예제4\n",
    "\n",
    "주석을 따로 저장하여 별도의 파일을 만들어 보자. 2"
   ]
  },
  {
   "cell_type": "code",
   "execution_count": 31,
   "metadata": {
    "collapsed": true
   },
   "outputs": [],
   "source": [
    "class Refs2():\n",
    "    \n",
    "    counter = Counter()\n",
    "    refs = []\n",
    "    \n",
    "    @classmethod\n",
    "    def appendNew(cls, ref_type, ref_body):\n",
    "        cls.counter.addOne()\n",
    "        ref_header = \"[^{}{}]: \".format( ref_type, cls.counter.puts() )\n",
    "        cls.refs.append( ref_header + ref_body )\n",
    "        return ref_header\n",
    "\n",
    "    @classmethod\n",
    "    def callAll( cls ):\n",
    "        return cls.refs\n",
    "\n",
    "\n",
    "def convertFunc( m ): \n",
    "    \n",
    "    head, body_raw = m.groups()\n",
    "    body = body_raw.replace(\"@\", \" ※\").replace(\"$\", \"*\")\n",
    "    \n",
    "    if head.strip() == \"\":\n",
    "        ref_header = Refs2.appendNew( 'REF', body )\n",
    "    else:\n",
    "        ref_header = Refs2.appendNew( 'REF', head + \" : \" + body )\n",
    "        \n",
    "    return ref_header\n",
    "\n",
    "\n",
    "def main_ex04():\n",
    "   \n",
    "    import re   # https://docs.python.org/3/library/re.html\n",
    "\n",
    "    pattern = r\"\\{(.+?)[\\:=](.+?)\\}\"\n",
    "\n",
    "    input_data_obj = open( \"examples/example02.txt\", 'r', encoding=\"utf-8\" )\n",
    "    input_data = input_data_obj.read()\n",
    "\n",
    "    input_data = re.sub( pattern, convertFunc, input_data )\n",
    "\n",
    "    output_handler1 = open( \"examples/example04RST.md\", 'w', encoding=\"utf-8\")\n",
    "    output_handler1.write( input_data )\n",
    "    output_handler1.close()\n",
    "    \n",
    "    output_handler2 = open( \"examples/example04RST_refs.md\", 'w', encoding=\"utf-8\")\n",
    "    output_handler2.write( \"\\n\".join( Refs2.callAll() ) )\n",
    "    output_handler2.close()\n",
    "    \n",
    "    \n",
    "main_ex04()"
   ]
  },
  {
   "cell_type": "markdown",
   "metadata": {},
   "source": [
    "## 예제5\n",
    "\n",
    "하나의 폴더에 있는 여러가지 파일을 읽어 예제2에서 한 작업을 반복해 보자. \n"
   ]
  },
  {
   "cell_type": "code",
   "execution_count": 11,
   "metadata": {},
   "outputs": [
    {
     "name": "stdout",
     "output_type": "stream",
     "text": [
      "[['example01.txt', 'example01RST.txt', 'example02.txt', 'example02RST.md']]\n"
     ]
    }
   ],
   "source": [
    "import os\n",
    "\n",
    "def allfiles( path, abs=False ):\n",
    "    res = []\n",
    "\n",
    "    for root, dirs, files in os.walk( path ):\n",
    "        rootpath = os.path.join(os.path.abspath(path), root)\n",
    "        if( abs ):\n",
    "            filepath = [ os.path.join(rootpath, file) for file in files ]\n",
    "        else:\n",
    "            filepath = files\n",
    "        res.append( filepath )\n",
    "\n",
    "    return res\n",
    "\n",
    "\n",
    "def main_ex05():\n",
    "\n",
    "    target_dir = \"./examples\"\n",
    "    print( allfiles( target_dir ) )\n",
    "\n",
    "main_ex05()"
   ]
  },
  {
   "cell_type": "code",
   "execution_count": null,
   "metadata": {
    "collapsed": true
   },
   "outputs": [],
   "source": []
  }
 ],
 "metadata": {
  "kernelspec": {
   "display_name": "Python 3",
   "language": "python",
   "name": "python3"
  },
  "language_info": {
   "codemirror_mode": {
    "name": "ipython",
    "version": 3
   },
   "file_extension": ".py",
   "mimetype": "text/x-python",
   "name": "python",
   "nbconvert_exporter": "python",
   "pygments_lexer": "ipython3",
   "version": "3.6.0"
  }
 },
 "nbformat": 4,
 "nbformat_minor": 2
}
