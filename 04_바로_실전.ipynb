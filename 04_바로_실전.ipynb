{
 "cells": [
  {
   "cell_type": "markdown",
   "metadata": {},
   "source": [
    "# 바로 실전이다.\n",
    "\n",
    "실전을 통해 익혀보자. "
   ]
  },
  {
   "cell_type": "markdown",
   "metadata": {},
   "source": [
    "## 예제1\n",
    "\n",
    "하나의 파일을 읽어 특정 문자 셋트를 찾아 바꾼 뒤에 새로운 파일을 만들어 보자. "
   ]
  },
  {
   "cell_type": "code",
   "execution_count": 35,
   "metadata": {
    "collapsed": true
   },
   "outputs": [],
   "source": [
    "def main_ex01():\n",
    "\n",
    "    replace_sets = [\n",
    "        ( \"尚\", \"尙\" ),\n",
    "        ( \"為\", \"爲\" ),\n",
    "        ( \"垒\", \"壘\" ),\n",
    "        ( \"胆\", \"膽\" )\n",
    "    ]\n",
    "\n",
    "    input_data_obj = open( \"examples/example01.txt\", 'r', encoding=\"utf-8\" )\n",
    "    input_data = input_data_obj.read()\n",
    "\n",
    "    for ( before, after ) in replace_sets:\n",
    "        input_data = input_data.replace( before, after )\n",
    "\n",
    "    output_handler = open( \"examples/example01RST.txt\", 'w', encoding=\"utf-8\")\n",
    "    output_handler.write( input_data )\n",
    "    output_handler.close()\n",
    "\n",
    "main_ex01()"
   ]
  },
  {
   "cell_type": "markdown",
   "metadata": {},
   "source": [
    "## 예제2\n",
    "\n",
    "폴더에 있는 파일 각각에 한자 수를 알아보자. "
   ]
  },
  {
   "cell_type": "code",
   "execution_count": 36,
   "metadata": {},
   "outputs": [
    {
     "name": "stdout",
     "output_type": "stream",
     "text": [
      "['.ipynb_checkpoints', 'example01.txt', 'example01RST.txt', 'example02-1RST.txt', 'example02RST-1.txt', 'example02RST-2.txt', 'example03.txt']\n"
     ]
    }
   ],
   "source": [
    "import os  \n",
    "    \n",
    "# folder에 있는 파일 리스트\n",
    "# https://stackoverflow.com/a/3207254\n",
    "    \n",
    "def main_ex02_1():\n",
    "    \n",
    "    replace_sets = \"， ． 、 。：\".split()\n",
    "    target_folder = \"./examples\"\n",
    "    file_type = [\"txt\", \"md\"]\n",
    "    file_lst = os.listdir( target_folder )\n",
    "    print( file_lst )\n",
    "\n",
    "\n",
    "    hd = open( \"./examples/example02RST-1.txt\", \"w\", encoding=\"utf-8\" )\n",
    "    \n",
    "    for file in file_lst:\n",
    "        \n",
    "        if file.split(\".\")[-1] not in file_type  : continue\n",
    "        file_name = target_folder + \"/\" + file\n",
    "\n",
    "        tmp = open( file_name, 'r', encoding='utf-8').read()\n",
    "\n",
    "        for rs in replace_sets:\n",
    "            tmp = tmp.replace( rs, \"\" )\n",
    "    \n",
    "        hd.write( \"{}\\t{}\\n\".format( file, len(tmp) ) )\n",
    "\n",
    "    hd.close()\n",
    "                 \n",
    "main_ex02_1()\n",
    "\n",
    "    "
   ]
  },
  {
   "cell_type": "code",
   "execution_count": 37,
   "metadata": {},
   "outputs": [
    {
     "name": "stdout",
     "output_type": "stream",
     "text": [
      "['.ipynb_checkpoints', 'example01.txt', 'example01RST.txt', 'example02-1RST.txt', 'example02RST-1.txt', 'example02RST-2.txt', 'example03.txt']\n"
     ]
    }
   ],
   "source": [
    "import re  # https://docs.python.org/3/library/re.html\n",
    "\n",
    "def main_ex02_2():\n",
    "\n",
    "    replace_sets = r\"[， ． 、 。：]\"\n",
    "    target_folder = \"./examples\"\n",
    "    file_type = [\"txt\", \"md\"]\n",
    "    file_lst = os.listdir( target_folder )\n",
    "    print( file_lst )\n",
    "\n",
    "\n",
    "    hd = open( \"./examples/example02RST-2.txt\", \"w\", encoding=\"utf-8\" )\n",
    "    \n",
    "    for file in file_lst:\n",
    "        \n",
    "        if file.split(\".\")[-1] not in file_type  : continue\n",
    "        file_name = target_folder + \"/\" + file\n",
    "\n",
    "        tmp = open( file_name, 'r', encoding='utf-8').read()\n",
    "        tmp = re.sub( replace_sets, \"\", tmp )\n",
    "    \n",
    "        hd.write( \"{}\\t{}\\n\".format( file, len(tmp) ) )\n",
    "\n",
    "    hd.close()\n",
    "                 \n",
    "main_ex02_2()\n"
   ]
  },
  {
   "cell_type": "markdown",
   "metadata": {},
   "source": [
    "## 예제3\n",
    "\n",
    "### 3-1\n",
    "\n",
    "하나의 파일을 읽어 정해진 정규식으로 파일을 수정한 뒤에 새로운 파일에 저장해 보자."
   ]
  },
  {
   "cell_type": "code",
   "execution_count": 38,
   "metadata": {},
   "outputs": [],
   "source": [
    "def main_ex03_1():\n",
    "\n",
    "    \"\"\"\n",
    "    \\{([^\\{]+?)[\\=\\:]\\$(.+?)@(.+?)\\}\n",
    "    이북=교감기 변환\n",
    "    \\*$1\\*\\[\\^$1\\]★\\[\\^$1\\]\\: $1 \\:*$2 ※$3★\n",
    "\n",
    "    \\{([^\\{]+?)[\\=\\:](.+?)@(.+?)\\}\n",
    "    출처있는 주석\n",
    "    \\*$1\\*\\[\\^$1\\]★\\[\\^$1\\]\\: $1 \\:$2 ※$3★\n",
    "\n",
    "    \\{([^\\{^\\}]+?)[\\=\\:](.+?)\\}\n",
    "    출처없는 주석\n",
    "    \\*$1\\*\\[\\^$1\\]★\\[\\^$1\\]\\: $1 \\:$2★\n",
    "\n",
    "    \\{\\:(.+?)\\}\n",
    "    대상없는 주석\n",
    "    \\[\\^주석01\\]★\\[\\^주석01\\]\\: \\: $1★\n",
    "    \"\"\"\n",
    "\n",
    "    import re   # https://docs.python.org/3/library/re.html\n",
    "\n",
    "    patterns = [\n",
    "        ( r\"\\{([^\\{]+?)[\\=\\:]\\$(.+?)@(.+?)\\}\", r\"*\\1*[^\\1]★[^\\1]: \\1 :*\\2 ※\\3★\" ), # 이북=교감기 변환\n",
    "        ( r\"\\{([^\\{]+?)[\\=\\:](.+?)@(.+?)\\}\", r\"*\\1*[^\\1]★[^\\1]: \\1 :\\2 ※\\3★\" ),    # 출처있는 주석\n",
    "        ( r\"\\{([^\\{^\\}]+?)[\\=\\:](.+?)\\}\", r\"*\\1*[^\\1]★[^\\1]: \\1 :\\2★\" ),            # 출처없는 주석\n",
    "        ( r\"\\{\\:(.+?)\\}\", r\"\\[\\^주석01\\]★[^주석01]: : \\1★\" ),                       # 대상없는 주석\n",
    "    ]\n",
    "\n",
    "    input_data_obj = open( \"examples/example03.txt\", 'r', encoding=\"utf-8\" )\n",
    "    input_data = input_data_obj.read()\n",
    "\n",
    "    for ( before, after ) in patterns:\n",
    "        input_data = re.sub( before, after, input_data )\n",
    "\n",
    "    output_handler = open( \"examples/example03RST-1.md\", 'w', encoding=\"utf-8\")\n",
    "    output_handler.write( input_data )\n",
    "    output_handler.close()\n",
    "    \n",
    "main_ex03_1()"
   ]
  },
  {
   "cell_type": "markdown",
   "metadata": {},
   "source": [
    "### 3-2\n",
    "\n",
    "주석을 따로 저장하여 별도의 파일을 만들어 보자. "
   ]
  },
  {
   "cell_type": "code",
   "execution_count": 40,
   "metadata": {},
   "outputs": [],
   "source": [
    "class Counter():\n",
    "    \n",
    "    def __init__(self):\n",
    "        self.counter = 0\n",
    "        \n",
    "    def addOne(self):\n",
    "        self.counter = self.counter + 1\n",
    "        \n",
    "    def puts(self):\n",
    "        return \"{:0>3}\".format( self.counter )\n",
    "\n",
    "        \n",
    "class Refs():\n",
    "    \n",
    "    counter = Counter()\n",
    "    refs = []\n",
    "    \n",
    "    @classmethod\n",
    "    def appendNew(cls, ref_type, ref_body):\n",
    "        cls.counter.addOne()\n",
    "        ref_header = \"[^{}{}]: \".format( ref_type, cls.counter.puts() )\n",
    "        cls.refs.append( ref_header + ref_body )\n",
    "        return ref_header\n",
    "\n",
    "    @classmethod\n",
    "    def callAll(cls):\n",
    "        return cls.refs\n",
    "\n",
    "    \n",
    "def convertA( m ):  # https://docs.python.org/3/library/re.html#text-munging    \n",
    "    matches = m.groups()\n",
    "    ref_header = Refs.appendNew( 'A', \"{} :*{} ※{}\".format( *matches ) )\n",
    "    return ref_header\n",
    "\n",
    "def convertB( m ):  # https://docs.python.org/3/library/re.html#text-munging    \n",
    "    matches = m.groups()\n",
    "    ref_header = Refs.appendNew( 'B', \"{} :{} ※{}\".format( *matches ) )\n",
    "    return ref_header\n",
    "\n",
    "def convertC( m ):  # https://docs.python.org/3/library/re.html#text-munging    \n",
    "    matches = m.groups()\n",
    "    ref_header = Refs.appendNew( 'C', \"{} :{} \".format( *matches ) )\n",
    "    return ref_header\n",
    "\n",
    "def convertD( m ):  # https://docs.python.org/3/library/re.html#text-munging    \n",
    "    matches = m.groups()\n",
    "    ref_header = Refs.appendNew( 'D', \"{}\".format( *matches ) )\n",
    "    return ref_header\n",
    "\n",
    "    \n",
    "def main_ex03_2():\n",
    "\n",
    "    import re   # https://docs.python.org/3/library/re.html\n",
    "\n",
    "    patterns = [\n",
    "        ( r\"\\{([^\\{]+?)[\\=\\:]\\$(.+?)@(.+?)\\}\", convertA ), # 이북=교감기 변환\n",
    "        ( r\"\\{([^\\{]+?)[\\=\\:](.+?)@(.+?)\\}\", convertB ),    # 출처있는 주석\n",
    "        ( r\"\\{([^\\{^\\}]+?)[\\=\\:](.+?)\\}\", convertC ),            # 출처없는 주석\n",
    "        ( r\"\\{\\:(.+?)\\}\", convertD )                                 # 대상없는 주석\n",
    "    ]\n",
    "\n",
    "    input_data_obj = open( \"examples/example03.txt\", 'r', encoding=\"utf-8\" )\n",
    "    input_data = input_data_obj.read()\n",
    "\n",
    "    for ( before, convertFunc ) in patterns:\n",
    "        input_data = re.sub( before, convertFunc, input_data )\n",
    "\n",
    "    output_handler1 = open( \"examples/example03RST-2.md\", 'w', encoding=\"utf-8\")\n",
    "    output_handler1.write( input_data )\n",
    "    output_handler1.close()\n",
    "    \n",
    "    output_handler2 = open( \"examples/example03RST-2refs.md\", 'w', encoding=\"utf-8\")\n",
    "    output_handler2.write( \"\\n\".join( Refs.callAll() ) )\n",
    "    output_handler2.close()\n",
    "    \n",
    "main_ex03_2()"
   ]
  },
  {
   "cell_type": "markdown",
   "metadata": {},
   "source": [
    "### 예제3-3\n",
    "\n",
    "주석을 따로 저장하여 별도의 파일을 만들어 보자. 2"
   ]
  },
  {
   "cell_type": "code",
   "execution_count": 41,
   "metadata": {
    "collapsed": true
   },
   "outputs": [],
   "source": [
    "class Refs2():\n",
    "    \n",
    "    counter = Counter()\n",
    "    refs = []\n",
    "    \n",
    "    @classmethod\n",
    "    def appendNew(cls, ref_type, ref_body):\n",
    "        cls.counter.addOne()\n",
    "        ref_header = \"[^{}{}]: \".format( ref_type, cls.counter.puts() )\n",
    "        cls.refs.append( ref_header + ref_body )\n",
    "        return ref_header\n",
    "\n",
    "    @classmethod\n",
    "    def callAll( cls ):\n",
    "        return cls.refs\n",
    "\n",
    "\n",
    "def convertFunc( m ): \n",
    "    \"\"\"\n",
    "    https://docs.python.org/3/library/re.html#text-munging   \n",
    "    \"\"\"\n",
    "    \n",
    "    head, body_raw = m.groups()\n",
    "    body = body_raw.replace(\"@\", \" ※\").replace(\"$\", \"*\")\n",
    "    \n",
    "    if head.strip() == \"\":\n",
    "        ref_header = Refs2.appendNew( 'REF', body )\n",
    "    else:\n",
    "        ref_header = Refs2.appendNew( 'REF', head + \" : \" + body )\n",
    "        \n",
    "    return ref_header\n",
    "\n",
    "\n",
    "def main_ex03_3():\n",
    "   \n",
    "    import re   \n",
    "\n",
    "    pattern = r\"\\{(.+?)[\\:=](.+?)\\}\"\n",
    "\n",
    "    input_data_obj = open( \"examples/example03.txt\", 'r', encoding=\"utf-8\" )\n",
    "    input_data = input_data_obj.read()\n",
    "\n",
    "    input_data = re.sub( pattern, convertFunc, input_data )\n",
    "\n",
    "    output_handler1 = open( \"examples/example03RST-3.md\", 'w', encoding=\"utf-8\")\n",
    "    output_handler1.write( input_data )\n",
    "    output_handler1.close()\n",
    "    \n",
    "    output_handler2 = open( \"examples/example03RST-3refs.md\", 'w', encoding=\"utf-8\")\n",
    "    output_handler2.write( \"\\n\".join( Refs2.callAll() ) )\n",
    "    output_handler2.close()\n",
    "    \n",
    "    \n",
    "main_ex03_3()"
   ]
  },
  {
   "cell_type": "code",
   "execution_count": null,
   "metadata": {
    "collapsed": true
   },
   "outputs": [],
   "source": []
  }
 ],
 "metadata": {
  "kernelspec": {
   "display_name": "Python 3",
   "language": "python",
   "name": "python3"
  },
  "language_info": {
   "codemirror_mode": {
    "name": "ipython",
    "version": 3
   },
   "file_extension": ".py",
   "mimetype": "text/x-python",
   "name": "python",
   "nbconvert_exporter": "python",
   "pygments_lexer": "ipython3",
   "version": "3.6.0"
  }
 },
 "nbformat": 4,
 "nbformat_minor": 2
}
