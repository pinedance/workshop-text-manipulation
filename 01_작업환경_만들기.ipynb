{
 "cells": [
  {
   "cell_type": "markdown",
   "metadata": {},
   "source": [
    "# 작업 환경 만들기\n",
    "\n"
   ]
  },
  {
   "cell_type": "markdown",
   "metadata": {},
   "source": [
    "## 왜 코딩인가?\n",
    "\n",
    "건설 현장에는 중장비들이 있고, 공장에는 로봇들이 부품을 조립한다. 오프라인 세상에서는 이미 많은 자동화 기기들이 사용되고 있다. \n",
    "\n",
    "그렇다면 사무실은 어떠한가. 글자와 숫자들은 종이에 적혀 기록되고 조합되어 왔다. 하지만 이제는 이것들을 손에 잡히지 않는 파일들로 처리하고 있다. 컴퓨터가 날라가면, 문서 저장고가 불타는 정도의 타격을 입게 된다. \n",
    "\n",
    "이런 사무실에서도 단순작업은 널려있다. 그렇다면 이런 작업들에는 어떤 자동화 기기들이 사용될 수 있을까. 아마도 엑셀이 대표적인 도구일 것이다. 그럼 엑셀로 할 수 없는 작업은? \n",
    "\n",
    "최근 \"[하루 8시간 6개월 잡무, 30분만에 끝낸 사회복무요원](https://news.joins.com/article/23217750)\"의 일화가 신문기사로 나왔다. 지금은 신기한 일화이지만, 조금만 세상이 지나면, 엑셀처럼 사무직 종사자들은 어느정도 코딩을 해야 하는 세상일 올 거라고 생각한다. 프로그래밍 언어는 하루가 다르게 쉬워지고 있기 때문이다. ☞ [크롤러를 이용해 우체국 등기우편을 자동으로 정리해 보자](https://brunch.co.kr/@needleworm/1)\n",
    "\n",
    "우리는 조금 빨리 시작하는 것 뿐이다. "
   ]
  },
  {
   "cell_type": "markdown",
   "metadata": {},
   "source": [
    "## Python 소개\n",
    "\n",
    "\n",
    "컴퓨터로 텍스트를 처리하기 위해서는 컴퓨터가 들을 수 있는 말로 명령을 전달해야 한다. 그러기 위해 우리는 python이라는 `언어`를 사용할 예정이다. \n",
    "\n",
    "python은 [인터프리터(interpreter) 언어](https://namu.wiki/w/%EC%8A%A4%ED%81%AC%EB%A6%BD%ED%8A%B8%20%EC%96%B8%EC%96%B4)로서 컴파일이 필요하지 않으며, 문법이 단순하고 배우기 쉽다는 장점이 있다. "
   ]
  },
  {
   "cell_type": "markdown",
   "metadata": {},
   "source": [
    "## Anaconda Python 설치\n",
    "\n",
    "\n",
    "자신의 컴퓨터에서 python을 실행시키기 위해서는 python을 통역해 줄 환경이 필요하다. windows의 경우 anaconda python이 대중적으로 가장 많이 사용된다. \n",
    "\n",
    "[anaconda python 홈페이지](https://www.anaconda.com/download/)로 접속하여 화면에 있는 3.X 버전을 다운로드 받아 실행시킨다. \n",
    "\n",
    "자신이 없다면 되도록 기본 설정을 바꾸지 않고 설치하자. 단, windows cmd 환경에서 python을 사용하려면, 설치 시 \"환견변수 추가\" 옵션을 체크해 주어야 한다. \n",
    "\n",
    "windows 검색창에 `anaconda prompt`를 검색하여 실행시켜보자. 그리고 아래와 같이 실행 시키면 설치를 확인할 수 있다. \n",
    "\n",
    "```bash\n",
    "python -V\n",
    "```\n",
    "\n",
    "이제 텍스트 에디터를 이용하여 python 프로그램 파일을 만든 뒤에 아래와 같이 실행 시키면 python을 통해 원하는 일을 수행할 수 있다. \n",
    "\n",
    "```cmd\n",
    "# anaconda prompt 내에서 실행\n",
    "python hello_world.py\n",
    "```\n",
    "\n",
    "※ 설치 시 \"환견변수 추가\" 옵션을 체크해 주지 않았다면, 수작업이 필요하다. \n",
    "\n",
    "[windows 환경변수](http://mwultong.blogspot.com/2006/08/environment-variable.html) `path`에 아래 3가지를 추가시켜준다. \n",
    "\n",
    "* `%USERPROFILE%\\Anaconda3`\n",
    "* `%USERPROFILE%\\Anaconda3\\Scripts`\n",
    "* `%USERPROFILE%\\Anaconda3\\Library\\bin`\n"
   ]
  },
  {
   "cell_type": "markdown",
   "metadata": {},
   "source": [
    "##  Jupyter notebook 실행\n",
    "\n",
    "\n",
    "보통 처음 만든 프로그램은 많은 에러들을 토해낸다. 우리는 그 에러 메시지를 보고 디버깅을 한 후 다시 실행시킨다. 이런 일을 수 없이 반복해야 한다. 그러려면 무언가 편한 환경이 주어져야 한다. 여러가지 도구들이 있겠으나, 간단하면서도 직관적인 [jupyter notebook](https://jupyter.org/)을 이용할 수 있다. \n",
    "\n",
    "jupyter notebook은 python과는 별개의 프로젝트 이지만, anaconda python 패키지 않에 이미 포함되어 있으므로 다시 설치할 필요는 없다. \n",
    "\n",
    "windows 검색창에 `jupyter notebook`을 검색하여 실행해 보면, 브라우저가 열리면서 코딩을 할 수 있는 환경이 준비된다. 원하는 폴더 안에 들어가 파일을 만들고 프로그램을 써 내려가면 된다. \n",
    "\n",
    "하지만 우리는 이 jupyter notebook을 우리가 원하는 폴더에서 실행시키고 싶다. \n",
    "\n",
    "jupyter notebook을 실행시키고자 하는 폴더(혹은 상위 폴더)에 `run-notebook.bat`라는 배치파일을 만들고 그 안에 아래와 같이 입력한 다음 해당 파일을 실행시켜보자. \n",
    "\n",
    "```cmd\n",
    "# run-notebook.bat\n",
    "set AcPy=%USERPROFILE%\\Anaconda3\n",
    "%AcPy%\\python.exe %AcPy%\\cwp.py %AcPy% %AcPy%\\python.exe %AcPy%\\Scripts\\jupyter-notebook-script.py %cd%\n",
    "```\n",
    "\n",
    "windows에 환경변수가 잘 지정되어 있다면 다음과 같이 하여도 충분하다. \n",
    "\n",
    "```cmd\n",
    "# run-notebook.bat\n",
    "jupyter notebook\n",
    "```\n",
    "\n",
    "Jupyter notebook의 장점은, 코딩을 하면서 결과를 바로바로 확인해 볼 수 있다는 점이다. 또한 자신이 수행한 프로젝트의 내용을 따로 정리하지 않고 그대로 문서로 만들어 공유할 수 있다. \n",
    "\n",
    "Jupyter notebook은 문서를 여러가지 형식으로 내보낼 수 있도록 지원하고 있다. 그러나 한글 인코딩 문제 때문인지 pdf으로 출력할 때에는 에러가 발생한다. 아직 해결 방법은 모르겠다. \n",
    "\n",
    "* [pdf 저장 문제 참고](http://deepjj.tistory.com/25)\n",
    "\n"
   ]
  },
  {
   "cell_type": "markdown",
   "metadata": {},
   "source": [
    "## 참고\n",
    "\n",
    "Python Community가 매우 거대하다보니 이를 겨냥한 플랫폼들도 있다. 굳이 자신의 컴퓨터에 개발 환경을 설치하지 않아도 브라우저로 인터넷에 접속할 수만 있다면 이러한 플랫폼들을 사용할 수 있다. \n",
    "\n",
    "작성한 코드가 생각처럼 동작해 주는지 테스트 해 보고 싶을 때가 있다. 이럴 때는 온라인 REPL을 테스트 베드로 활용해 보자.\n",
    "\n",
    "* [Repl.it/python3](https://repl.it/languages/python3)\n",
    "\n",
    "Cloud 서비스를 이용하면 인터넷 환경 어디에서나 작업을 계속해 나갈 수 있다. Azure notebook의 경우, 다른 사람들이 올려 놓은 project들이 많이 있기 때문에 학습용으로도 유용하다. \n",
    "\n",
    "* [Azure/notebooka](https://notebooks.azure.com/#)"
   ]
  }
 ],
 "metadata": {
  "kernelspec": {
   "display_name": "Python 3",
   "language": "python",
   "name": "python3"
  },
  "language_info": {
   "codemirror_mode": {
    "name": "ipython",
    "version": 3
   },
   "file_extension": ".py",
   "mimetype": "text/x-python",
   "name": "python",
   "nbconvert_exporter": "python",
   "pygments_lexer": "ipython3",
   "version": "3.6.0"
  }
 },
 "nbformat": 4,
 "nbformat_minor": 2
}
