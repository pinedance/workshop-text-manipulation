{
 "cells": [
  {
   "cell_type": "markdown",
   "metadata": {},
   "source": [
    "# String 다루기\n",
    "\n",
    "가장 중요한 기준은 공식문서이다. [Common string operations](https://docs.python.org/3/library/string.html)를 참조하자.\n",
    "\n",
    "다음으로 [점프 투 파이썬/02-2 문자열 자료형](https://wikidocs.net/13https://wikidocs.net/13)로 가닥을 잡을 수 있다. "
   ]
  },
  {
   "cell_type": "markdown",
   "metadata": {},
   "source": [
    "## index\n",
    "\n",
    "문자열은 기본적으로 글자의 나열(string)로 인식된다. 따라서 list와 친척이다. list의 규칙이 그대로 적용되는 경우가 많다.\n",
    "\n",
    "기본적인 사용법은 다음과 같다."
   ]
  },
  {
   "cell_type": "code",
   "execution_count": 11,
   "metadata": {},
   "outputs": [
    {
     "name": "stdout",
     "output_type": "stream",
     "text": [
      "this is a stringthis is a string\n",
      "['t', 'h', 'i', 's', ' ', 'i', 's', ' ', 'a', ' ', 's', 't', 'r', 'i', 'n', 'g']\n",
      "['t', 'h', 'i', 's', ' ', 'i', 's', ' ', 'a', ' ', 's', 't', 'r', 'i', 'n', 'g', 't', 'h', 'i', 's', ' ', 'i', 's', ' ', 'a', ' ', 's', 't', 'r', 'i', 'n', 'g']\n",
      "['this', 'is', 'a', 'string']\n",
      "this is a string\n",
      "i\n",
      "this \n",
      "a string\n",
      "g\n",
      "we have many spaces\n"
     ]
    }
   ],
   "source": [
    "s = \"this is a string\"\n",
    "\n",
    "# 결합\n",
    "print( s + s )\n",
    "print( list(s) )\n",
    "print( list(s) + list(s) )\n",
    "\n",
    "# indexing\n",
    "print( s[2] )\n",
    "print( s[0:5] )\n",
    "print( s[8:] )\n",
    "print( s[-1] )"
   ]
  },
  {
   "cell_type": "markdown",
   "metadata": {},
   "source": [
    "## 기본 함수\n",
    "\n",
    "많이 사용하는 기능들은 이미 기본 함수로 내장되어 있다. "
   ]
  },
  {
   "cell_type": "code",
   "execution_count": 13,
   "metadata": {},
   "outputs": [
    {
     "name": "stdout",
     "output_type": "stream",
     "text": [
      "['this', 'is', 'a', 'string']\n",
      "this is a string\n",
      "we have many spaces\n",
      "thiS iS a String\n"
     ]
    }
   ],
   "source": [
    "# 쪼개기\n",
    "print( s.split(\" \") )\n",
    "\n",
    "# 붙이기 \n",
    "print( \"\".join( list(s) ) )\n",
    "\n",
    "# strip\n",
    "print( \"we have many spaces \\n \\r \\n\".strip() )\n",
    "\n",
    "# 바꾸기\n",
    "print( s.replace('s', 'S' ) )\n",
    "\n"
   ]
  },
  {
   "cell_type": "markdown",
   "metadata": {},
   "source": [
    "## 포맷팅\n",
    "\n",
    "컴퓨터 작업의 장점은 지루한 반복을 불평 없이 빠르게 처리해 준다는 점이다. 하지만 이를 위해서는 인간이 먼저 업무를 기획해 주어야 한다. \n",
    "\n",
    "웹프로그래밍을 예로 들어보자. 수 많은 사람들이 저마다 다른 메인 화면을 가지고 있지만, 컴퓨터 안에 이 모든 화면이 들어 있는 것은 아니다. 정해진 틀에 각각의 정보를 끼워서 순간적으로 보여주는 것이다. 그래서 이른바 틀(Template)에 대한 이야기가 자주 나온다. \n",
    "\n",
    "string을 다룰 때도 이 틀을 이용하면 일을 손쉽게 처리할 수 있다. 내용이 좀 복잡하지만 간단한 것 중심으로 익혀보자. "
   ]
  },
  {
   "cell_type": "code",
   "execution_count": 33,
   "metadata": {},
   "outputs": [
    {
     "name": "stdout",
     "output_type": "stream",
     "text": [
      "     이름     \t활동시대\t생년몰년\n",
      "이고   ( 李杲  )\t金\t1180-1251\n",
      "장원소  ( 張元素 )\t金\t1131?-1251?\n",
      "장종정  ( 張從正 )\t金\t約1151-1231\n",
      "성무기  ( 成無己 )\t金\t1063-1156\n"
     ]
    }
   ],
   "source": [
    "tmpl = \"{:<5}({:^5})\\t{}\\t{}\"\n",
    "\n",
    "header = \"{:^12}\\t활동시대\\t생년몰년\".format(\"이름\")\n",
    "\n",
    "data = [\n",
    "    (\"이고\", \"李杲\", \"金\", \"1180-1251\"),\n",
    "    (\"장원소\", \"張元素\", \"金\", \"1131?-1251?\"),\n",
    "    (\"장종정\", \"張從正\", \"金\", \"約1151-1231\"),\n",
    "    (\"성무기\", \"成無己\", \"金\", \"1063-1156\"),\n",
    "]\n",
    "\n",
    "def main():\n",
    "    print(header)\n",
    "    for person in data:\n",
    "        print( tmpl.format( *person ) )\n",
    "\n",
    "main()\n",
    "\n"
   ]
  },
  {
   "cell_type": "code",
   "execution_count": null,
   "metadata": {
    "collapsed": true
   },
   "outputs": [],
   "source": []
  }
 ],
 "metadata": {
  "kernelspec": {
   "display_name": "Python 3",
   "language": "python",
   "name": "python3"
  },
  "language_info": {
   "codemirror_mode": {
    "name": "ipython",
    "version": 3
   },
   "file_extension": ".py",
   "mimetype": "text/x-python",
   "name": "python",
   "nbconvert_exporter": "python",
   "pygments_lexer": "ipython3",
   "version": "3.6.0"
  }
 },
 "nbformat": 4,
 "nbformat_minor": 2
}
