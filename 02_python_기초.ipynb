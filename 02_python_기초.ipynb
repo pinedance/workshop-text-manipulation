{
 "cells": [
  {
   "cell_type": "markdown",
   "metadata": {},
   "source": [
    "# Python 기초\n",
    "\n",
    "python을 활용하기 위해 기초적으로 알아야 할 내용을 살펴보자.\n"
   ]
  },
  {
   "cell_type": "markdown",
   "metadata": {},
   "source": [
    "## 변수\n",
    "\n",
    "대부분의 작업은 여러가지 재료들을 조합하여 수행된다. 예를 들어 요리를 할 때 각 재료들을 다듬고 재우고 섞고 볶고 할 때, 각각의 결과물을 담아 둘 그릇이 필요하다. 이 그릇은 중간에 씼어서 다시 사용할 수도 있고 한 가지 용도로만 쓸 수도 있다. 그러나 하나도 쓰지 않을 수는 없다. \n",
    "\n",
    "컴퓨터로 하는 작업도 마찬가지이다. 초기 데이터든, 중간 결과물이든, 최종 데이터든 어딘가에는 담아 두어야 다시 사용할 수 있다. 이를 변수(Variable)이라고 한다. 이 변수를 잘 사용하는 것만으로도 많은 것을 할 수 있다. \n"
   ]
  },
  {
   "cell_type": "code",
   "execution_count": 13,
   "metadata": {},
   "outputs": [
    {
     "name": "stdout",
     "output_type": "stream",
     "text": [
      "[1, 'I am python']\n",
      "{'no': 1, 'message': 'I am python'}\n",
      "(1, 'I am python')\n",
      "{'o', 'h', 'a', 'I', ' ', 'y', 'n', 't', 'p', 'm'}\n"
     ]
    }
   ],
   "source": [
    "# Primitive\n",
    "my_number = 1\n",
    "my_string = \"I am python\"\n",
    "\n",
    "# Sequence\n",
    "my_list = [ my_number, my_string ]\n",
    "my_tuple = ( my_number, my_string )\n",
    "my_dictionary = { 'no': my_number, 'message': my_string }\n",
    "my_set = set( list( my_string ) )\n",
    "\n",
    "print(my_list)\n",
    "print(my_dictionary)\n",
    "print(my_tuple)\n",
    "print(my_set)\n",
    "# 서로서로 바꿀 수 있다.  \n",
    "\n"
   ]
  },
  {
   "cell_type": "markdown",
   "metadata": {},
   "source": [
    "## 반복\n",
    "\n",
    "우리가 컴퓨터를 이용하는 가장 큰 이유는 반복하는 작업을 정확하고 신속하게 처리하기 위해서이다. 따라서 반복문이 중요하다. \n",
    "\n",
    "반복문은 `for`문이 대표적이다. 이것만 알아 두자. \n"
   ]
  },
  {
   "cell_type": "code",
   "execution_count": 5,
   "metadata": {},
   "outputs": [
    {
     "name": "stdout",
     "output_type": "stream",
     "text": [
      "Hello, Margo\n",
      "Hello, Bruce\n",
      "Hello, Quentin\n"
     ]
    }
   ],
   "source": [
    "guys = [\"Margo\", \"Bruce\", \"Quentin\"]\n",
    "\n",
    "for name in guys:\n",
    "    msg = \"Hello, {}\".format(name)\n",
    "    print(msg)\n"
   ]
  },
  {
   "cell_type": "markdown",
   "metadata": {},
   "source": [
    "## 조건\n",
    "\n",
    "모든 일이 단순한 반복이라면 좋겠지만, 대부분의 일들은 조건에 따라 해야할 일의 내용이 달라지는 경우가 많다. 이를 위해 조건문이 필요하다. \n",
    "\n",
    "조건문은 `if`가 대표적이다. 이것만 알아 두자.\n",
    "\n"
   ]
  },
  {
   "cell_type": "code",
   "execution_count": 9,
   "metadata": {},
   "outputs": [
    {
     "name": "stdout",
     "output_type": "stream",
     "text": [
      "Hello, Miss ★Margo\n",
      "Hello, Mr ☆Bruce\n",
      "Hello, Mr ☆Quentin\n",
      "Hello, World\n"
     ]
    }
   ],
   "source": [
    "guys = [\n",
    "    { 'name': \"Margo\", 'gender': \"female\" },\n",
    "    { 'name': \"Bruce\", 'gender': \"male\" },\n",
    "    { 'name': \"Quentin\", 'gender': \"male\" },\n",
    "    { 'name': \"World\", 'gender': \"nothing\" }\n",
    "]\n",
    "\n",
    "for guy in guys:\n",
    "    \n",
    "    if guy.get('gender') == \"female\":\n",
    "        \n",
    "        msg = \"Hello, Miss ★{}\".format( guy.get( 'name' ) )\n",
    "        \n",
    "    elif guy.get('gender') == \"male\":\n",
    "        \n",
    "        msg = \"Hello, Mr ☆{}\".format( guy.get( 'name' ) )\n",
    "        \n",
    "    else:\n",
    "        \n",
    "        msg = \"Hello, {}\".format( guy.get( 'name' ) )\n",
    "        \n",
    "    print(msg)\n",
    "\n"
   ]
  },
  {
   "cell_type": "markdown",
   "metadata": {},
   "source": [
    "## Modules \n",
    "\n",
    "더 많은 기능이 필요하다면 내장함수를 살펴보고, 복잡한 기능들은 사용자들이 많은 package를 찾아본다. \n",
    "\n",
    "부지런한 검색이야 말로 최고의 미덕이다. \n",
    "\n",
    "Thank you Google! Thank you StackOverflow!\n",
    "\n",
    "* [python3 공식 문서](https://docs.python.org/3/index.html)\n",
    "\n",
    "* [python package repository](https://pypi.org/)\n",
    "\n"
   ]
  }
 ],
 "metadata": {
  "kernelspec": {
   "display_name": "Python 3",
   "language": "python",
   "name": "python3"
  },
  "language_info": {
   "codemirror_mode": {
    "name": "ipython",
    "version": 3
   },
   "file_extension": ".py",
   "mimetype": "text/x-python",
   "name": "python",
   "nbconvert_exporter": "python",
   "pygments_lexer": "ipython3",
   "version": "3.7.0"
  }
 },
 "nbformat": 4,
 "nbformat_minor": 2
}
